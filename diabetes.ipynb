{
 "cells": [
  {
   "cell_type": "code",
   "execution_count": 9,
   "id": "265276b5-d705-4025-ace7-ce5c69a3972f",
   "metadata": {},
   "outputs": [
    {
     "data": {
      "text/plain": [
       "(768, 9)"
      ]
     },
     "execution_count": 9,
     "metadata": {},
     "output_type": "execute_result"
    }
   ],
   "source": [
    "import pandas as pd\n",
    "import tensorflow as tf\n",
    "\n",
    "dataframe = pd.read_csv(\"diabetes.csv\")\n",
    "dataframe.shape"
   ]
  },
  {
   "cell_type": "code",
   "execution_count": 10,
   "id": "5b8aab5e-ebc6-4917-af60-fce1841ee092",
   "metadata": {},
   "outputs": [
    {
     "data": {
      "text/html": [
       "<div>\n",
       "<style scoped>\n",
       "    .dataframe tbody tr th:only-of-type {\n",
       "        vertical-align: middle;\n",
       "    }\n",
       "\n",
       "    .dataframe tbody tr th {\n",
       "        vertical-align: top;\n",
       "    }\n",
       "\n",
       "    .dataframe thead th {\n",
       "        text-align: right;\n",
       "    }\n",
       "</style>\n",
       "<table border=\"1\" class=\"dataframe\">\n",
       "  <thead>\n",
       "    <tr style=\"text-align: right;\">\n",
       "      <th></th>\n",
       "      <th>Pregnancies</th>\n",
       "      <th>Glucose</th>\n",
       "      <th>BloodPressure</th>\n",
       "      <th>SkinThickness</th>\n",
       "      <th>Insulin</th>\n",
       "      <th>BMI</th>\n",
       "      <th>DiabetesPedigreeFunction</th>\n",
       "      <th>Age</th>\n",
       "      <th>Outcome</th>\n",
       "    </tr>\n",
       "  </thead>\n",
       "  <tbody>\n",
       "    <tr>\n",
       "      <th>0</th>\n",
       "      <td>6</td>\n",
       "      <td>148</td>\n",
       "      <td>72</td>\n",
       "      <td>35</td>\n",
       "      <td>0</td>\n",
       "      <td>33.6</td>\n",
       "      <td>0.627</td>\n",
       "      <td>50</td>\n",
       "      <td>1</td>\n",
       "    </tr>\n",
       "    <tr>\n",
       "      <th>1</th>\n",
       "      <td>1</td>\n",
       "      <td>85</td>\n",
       "      <td>66</td>\n",
       "      <td>29</td>\n",
       "      <td>0</td>\n",
       "      <td>26.6</td>\n",
       "      <td>0.351</td>\n",
       "      <td>31</td>\n",
       "      <td>0</td>\n",
       "    </tr>\n",
       "    <tr>\n",
       "      <th>2</th>\n",
       "      <td>8</td>\n",
       "      <td>183</td>\n",
       "      <td>64</td>\n",
       "      <td>0</td>\n",
       "      <td>0</td>\n",
       "      <td>23.3</td>\n",
       "      <td>0.672</td>\n",
       "      <td>32</td>\n",
       "      <td>1</td>\n",
       "    </tr>\n",
       "    <tr>\n",
       "      <th>3</th>\n",
       "      <td>1</td>\n",
       "      <td>89</td>\n",
       "      <td>66</td>\n",
       "      <td>23</td>\n",
       "      <td>94</td>\n",
       "      <td>28.1</td>\n",
       "      <td>0.167</td>\n",
       "      <td>21</td>\n",
       "      <td>0</td>\n",
       "    </tr>\n",
       "    <tr>\n",
       "      <th>4</th>\n",
       "      <td>0</td>\n",
       "      <td>137</td>\n",
       "      <td>40</td>\n",
       "      <td>35</td>\n",
       "      <td>168</td>\n",
       "      <td>43.1</td>\n",
       "      <td>2.288</td>\n",
       "      <td>33</td>\n",
       "      <td>1</td>\n",
       "    </tr>\n",
       "  </tbody>\n",
       "</table>\n",
       "</div>"
      ],
      "text/plain": [
       "   Pregnancies  Glucose  BloodPressure  SkinThickness  Insulin   BMI  \\\n",
       "0            6      148             72             35        0  33.6   \n",
       "1            1       85             66             29        0  26.6   \n",
       "2            8      183             64              0        0  23.3   \n",
       "3            1       89             66             23       94  28.1   \n",
       "4            0      137             40             35      168  43.1   \n",
       "\n",
       "   DiabetesPedigreeFunction  Age  Outcome  \n",
       "0                     0.627   50        1  \n",
       "1                     0.351   31        0  \n",
       "2                     0.672   32        1  \n",
       "3                     0.167   21        0  \n",
       "4                     2.288   33        1  "
      ]
     },
     "execution_count": 10,
     "metadata": {},
     "output_type": "execute_result"
    }
   ],
   "source": [
    "dataframe.head()"
   ]
  },
  {
   "cell_type": "code",
   "execution_count": 3,
   "id": "475d6cd0-f5de-4cd9-a1c5-121fe6f94010",
   "metadata": {},
   "outputs": [],
   "source": [
    "val_dataframe = dataframe.sample(frac=0.2, random_state=1337)"
   ]
  },
  {
   "cell_type": "code",
   "execution_count": 4,
   "id": "02534e41-9ae8-40e0-ad77-9605e9e4daa1",
   "metadata": {},
   "outputs": [],
   "source": [
    "train_dataset = dataframe.drop(val_dataframe.index)"
   ]
  },
  {
   "cell_type": "code",
   "execution_count": 5,
   "id": "5d68ae12-68e3-4f5d-a430-23c5eb80ab94",
   "metadata": {},
   "outputs": [
    {
     "name": "stdout",
     "output_type": "stream",
     "text": [
      "Using 614 samples for training and 154 for validation\n"
     ]
    }
   ],
   "source": [
    "print(\"Using %d samples for training and %d for validation\" \n",
    "      % (len(train_dataset), len(val_dataframe)))"
   ]
  },
  {
   "cell_type": "code",
   "execution_count": 6,
   "id": "912f4d6c-107f-4b96-b639-b32d6913ab00",
   "metadata": {},
   "outputs": [],
   "source": [
    "def dataframe_to_dataset(dataframe):\n",
    "    dataframe = dataframe.copy()\n",
    "    labels = dataframe.pop(\"Outcome\")\n",
    "    ds = tf.data.Dataset.from_tensor_slices((dict(dataframe), labels))\n",
    "    ds = ds.shuffle(buffer_size=len(dataframe))\n",
    "    return ds"
   ]
  },
  {
   "cell_type": "code",
   "execution_count": 17,
   "id": "68818034-94bd-44d6-b9ad-077d7e58a452",
   "metadata": {},
   "outputs": [
    {
     "data": {
      "text/plain": [
       "{'Pregnancies': 0       6\n",
       " 1       1\n",
       " 4       0\n",
       " 5       5\n",
       " 6       3\n",
       "        ..\n",
       " 762     9\n",
       " 763    10\n",
       " 764     2\n",
       " 765     5\n",
       " 766     1\n",
       " Name: Pregnancies, Length: 614, dtype: int64,\n",
       " 'Glucose': 0      148\n",
       " 1       85\n",
       " 4      137\n",
       " 5      116\n",
       " 6       78\n",
       "       ... \n",
       " 762     89\n",
       " 763    101\n",
       " 764    122\n",
       " 765    121\n",
       " 766    126\n",
       " Name: Glucose, Length: 614, dtype: int64,\n",
       " 'BloodPressure': 0      72\n",
       " 1      66\n",
       " 4      40\n",
       " 5      74\n",
       " 6      50\n",
       "        ..\n",
       " 762    62\n",
       " 763    76\n",
       " 764    70\n",
       " 765    72\n",
       " 766    60\n",
       " Name: BloodPressure, Length: 614, dtype: int64,\n",
       " 'SkinThickness': 0      35\n",
       " 1      29\n",
       " 4      35\n",
       " 5       0\n",
       " 6      32\n",
       "        ..\n",
       " 762     0\n",
       " 763    48\n",
       " 764    27\n",
       " 765    23\n",
       " 766     0\n",
       " Name: SkinThickness, Length: 614, dtype: int64,\n",
       " 'Insulin': 0        0\n",
       " 1        0\n",
       " 4      168\n",
       " 5        0\n",
       " 6       88\n",
       "       ... \n",
       " 762      0\n",
       " 763    180\n",
       " 764      0\n",
       " 765    112\n",
       " 766      0\n",
       " Name: Insulin, Length: 614, dtype: int64,\n",
       " 'BMI': 0      33.6\n",
       " 1      26.6\n",
       " 4      43.1\n",
       " 5      25.6\n",
       " 6      31.0\n",
       "        ... \n",
       " 762    22.5\n",
       " 763    32.9\n",
       " 764    36.8\n",
       " 765    26.2\n",
       " 766    30.1\n",
       " Name: BMI, Length: 614, dtype: float64,\n",
       " 'DiabetesPedigreeFunction': 0      0.627\n",
       " 1      0.351\n",
       " 4      2.288\n",
       " 5      0.201\n",
       " 6      0.248\n",
       "        ...  \n",
       " 762    0.142\n",
       " 763    0.171\n",
       " 764    0.340\n",
       " 765    0.245\n",
       " 766    0.349\n",
       " Name: DiabetesPedigreeFunction, Length: 614, dtype: float64,\n",
       " 'Age': 0      50\n",
       " 1      31\n",
       " 4      33\n",
       " 5      30\n",
       " 6      26\n",
       "        ..\n",
       " 762    33\n",
       " 763    63\n",
       " 764    27\n",
       " 765    30\n",
       " 766    47\n",
       " Name: Age, Length: 614, dtype: int64}"
      ]
     },
     "execution_count": 17,
     "metadata": {},
     "output_type": "execute_result"
    }
   ],
   "source": [
    "dict(train_dataset)"
   ]
  },
  {
   "cell_type": "code",
   "execution_count": 14,
   "id": "80e432cb-edb1-4ece-a560-6bcd074637fd",
   "metadata": {},
   "outputs": [],
   "source": [
    "train_ds = dataframe_to_dataset(train_dataset)"
   ]
  },
  {
   "cell_type": "code",
   "execution_count": 12,
   "id": "b36ad544-0d2e-41da-ad37-b79f5c832c8c",
   "metadata": {},
   "outputs": [],
   "source": [
    "val_ds = dataframe_to_dataset(val_dataframe)"
   ]
  },
  {
   "cell_type": "code",
   "execution_count": 13,
   "id": "bb901192-d2c9-4dba-ab4c-aee5abe3b10e",
   "metadata": {},
   "outputs": [
    {
     "name": "stdout",
     "output_type": "stream",
     "text": [
      "Input: {'Pregnancies': <tf.Tensor: shape=(), dtype=int64, numpy=2>, 'Glucose': <tf.Tensor: shape=(), dtype=int64, numpy=127>, 'BloodPressure': <tf.Tensor: shape=(), dtype=int64, numpy=46>, 'SkinThickness': <tf.Tensor: shape=(), dtype=int64, numpy=21>, 'Insulin': <tf.Tensor: shape=(), dtype=int64, numpy=335>, 'BMI': <tf.Tensor: shape=(), dtype=float64, numpy=34.4>, 'DiabetesPedigreeFunction': <tf.Tensor: shape=(), dtype=float64, numpy=0.176>, 'Age': <tf.Tensor: shape=(), dtype=int64, numpy=22>}\n",
      "Target: tf.Tensor(0, shape=(), dtype=int64)\n"
     ]
    }
   ],
   "source": [
    "for x,y in train_ds.take(1):\n",
    "    print(\"Input:\", x)\n",
    "    print(\"Target:\", y)"
   ]
  },
  {
   "cell_type": "code",
   "execution_count": null,
   "id": "eea26b5b-55f5-46fc-9190-721764b085ae",
   "metadata": {},
   "outputs": [],
   "source": []
  }
 ],
 "metadata": {
  "kernelspec": {
   "display_name": "Python 3",
   "language": "python",
   "name": "python3"
  },
  "language_info": {
   "codemirror_mode": {
    "name": "ipython",
    "version": 3
   },
   "file_extension": ".py",
   "mimetype": "text/x-python",
   "name": "python",
   "nbconvert_exporter": "python",
   "pygments_lexer": "ipython3",
   "version": "3.8.5"
  }
 },
 "nbformat": 4,
 "nbformat_minor": 5
}
